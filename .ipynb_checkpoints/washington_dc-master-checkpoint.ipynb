{
 "cells": [
  {
   "cell_type": "code",
   "execution_count": 1,
   "metadata": {
    "collapsed": true
   },
   "outputs": [],
   "source": [
    "from functools import partial\n",
    "\n",
    "import numpy as np\n",
    "from osgeo import gdal\n",
    "%matplotlib inline\n",
    "import matplotlib\n",
    "import matplotlib.pyplot as plt\n",
    "\n",
    "import proxmin\n",
    "from proxmin import nmf"
   ]
  },
  {
   "cell_type": "code",
   "execution_count": 2,
   "metadata": {
    "collapsed": true
   },
   "outputs": [],
   "source": [
    "ds = gdal.Open('/Users/fred/Downloads/Hyperspectral_Project/dc.tif')\n",
    "img_shape = ds.GetRasterBand(1).ReadAsArray().shape\n",
    "\n",
    "#ymin = 900\n",
    "xmin = 100\n",
    "xmax = 200\n",
    "ymin = 1000\n",
    "ymax = 1100\n",
    "\n",
    "\n",
    "\n",
    "img_shape = (ymax-ymin, xmax-xmin)\n",
    "\n",
    "shape = (ds.RasterCount, img_shape[0]*img_shape[1])\n",
    "#shape = (100, img_shape[0]*img_shape[1])\n",
    "data = np.zeros(shape)\n",
    "for bidx in range(shape[0]):\n",
    "    band = ds.GetRasterBand(bidx + 1).ReadAsArray()[ymin:ymax, xmin:xmax]\n",
    "    data[bidx] = band.flatten()"
   ]
  },
  {
   "cell_type": "code",
   "execution_count": 3,
   "metadata": {
    "collapsed": true
   },
   "outputs": [],
   "source": [
    "def prox_l0_unity(X, step, thresh, axis=0):\n",
    "    X[X<thresh] = 0\n",
    "    norm = np.sum(X, axis=axis)\n",
    "    norm = np.broadcast_to(norm, X.shape)\n",
    "    bad = norm==0\n",
    "    X[~bad] = X[~bad]/norm[~bad]\n",
    "    X[bad] = 0\n",
    "    return X\n",
    "\n",
    "def prox_range(X, step, xmin, xmax, axis=0):\n",
    "    X[X<xmin] =  xmin\n",
    "    X[X>xmax] = xmax\n",
    "    return X"
   ]
  },
  {
   "cell_type": "code",
   "execution_count": 4,
   "metadata": {
    "collapsed": true
   },
   "outputs": [],
   "source": [
    "obj_count = 7\n",
    "thresh = .1\n",
    "\n",
    "# Initialize A0 so that each object has a normalized spectrum\n",
    "A0 = np.random.rand(shape[0], obj_count)*np.max(data)\n",
    "# Initialize S0\n",
    "S0 = np.random.rand(obj_count, img_shape[0]*img_shape[1])\n",
    "norm = np.sum(S0, axis=0)\n",
    "S0 = S0/norm\n",
    "S0[S0<thresh] = 0\n",
    "norm = np.sum(S0, axis=0)\n",
    "S0 = S0/norm\n",
    "\n",
    "#prox_A = proxmin.operators.prox_plus\n",
    "prox_A = proxmin.proximal.prox_plus\n",
    "#prox_S = proxmin.operators.prox_unity_plus\n",
    "\n",
    "# Require at least 10% of the intensity of each object\n",
    "prox_S = partial(prox_l0_unity, thresh=thresh)\n",
    "#prox_S = partial(prox_range, xmin=thresh, xmax=1)"
   ]
  },
  {
   "cell_type": "code",
   "execution_count": 5,
   "metadata": {
    "collapsed": true
   },
   "outputs": [],
   "source": [
    "a = np.array([[1,2,3,4],[5,6,7,8],[9,10,11,12]])\n",
    "b = np.array([[1,1,1]])\n",
    "b.dot(a)\n",
    "Ls = [[None], [np.ones((1,S0.shape[0]))]]\n",
    "\n",
    "def prox_ones(X, step):\n",
    "    return np.ones_like(X)\n",
    "\n",
    "#prox_g = [[proxmin.operators.prox_id],[prox_ones]]\n",
    "prox_g = [[proxmin.proximal.prox_id],[prox_ones]]"
   ]
  },
  {
   "cell_type": "code",
   "execution_count": 6,
   "metadata": {},
   "outputs": [
    {
     "data": {
      "text/plain": [
       "(1, 7)"
      ]
     },
     "execution_count": 6,
     "metadata": {},
     "output_type": "execute_result"
    }
   ],
   "source": [
    "Ls[1][0].shape"
   ]
  },
  {
   "cell_type": "code",
   "execution_count": 7,
   "metadata": {
    "collapsed": true
   },
   "outputs": [],
   "source": [
    "#A, S = nmf.nmf(data, A0, S0, prox_A, prox_S, max_iter=300)\n",
    "#A, S = nmf.nmf(data, A0, S0, prox_A, max_iter=300, l1_thresh=.2, Ls=Ls, proxs_g=prox_g)"
   ]
  },
  {
   "cell_type": "code",
   "execution_count": 8,
   "metadata": {
    "collapsed": true
   },
   "outputs": [],
   "source": [
    "def delta_data(A, S, Y, W=1):\n",
    "    return W*(np.dot(A,S) - Y)\n",
    "\n",
    "def grad_likelihood_A(A, S, Y, W=1):\n",
    "    D = delta_data(A, S, Y, W=W)\n",
    "    return np.dot(D, S.T)\n",
    "\n",
    "def grad_likelihood_S(S, A, Y, W=1):\n",
    "    D = delta_data(A, S, Y, W=W)\n",
    "    return np.dot(A.T, D)\n",
    "\n",
    "def grad_likelihood(X, allX, xidx, **kwargs):\n",
    "    if xidx == 0:\n",
    "        return grad_likelihood_A(X, allX[1], Y=kwargs[\"data\"])\n",
    "    elif xidx == 1:\n",
    "        return grad_likelihood_S(X, allX[0], Y=kwargs[\"data\"])\n",
    "    else:\n",
    "        raise ValueError(\"xidx should be zero or 1, got {0}\".format(xidx))\n",
    "\n",
    "prox_fA = partial(proxmin.proximal.prox_likelihood, grad_likelihood=grad_likelihood,\n",
    "                     data=data, prox_g=proxmin.proximal.prox_plus, xidx=0)\n",
    "prox_fS = partial(proxmin.proximal.prox_likelihood, grad_likelihood=grad_likelihood,\n",
    "                     data=data, prox_g=proxmin.proximal.prox_plus, xidx=1)\n",
    "\n",
    "def prox_ones(X, allX, step, **kwargs):\n",
    "    return np.ones_like(X)\n",
    "\n",
    "all_prox_f = [prox_fA, prox_fS]\n",
    "all_prox_g = [proxmin.proximal.prox_plus, [prox_ones]]\n",
    "\n",
    "#Ls = [None, [np.ones((1,S0.shape[0]))]]\n",
    "Ls = [None, [np.ones((1,S0.shape[0]))]]\n",
    "#all_constraint_norms = [1, np.array([np.linalg.norm(C) for C in Ls[1]])]\n",
    "all_constraint_norms = [1, np.array([100])]"
   ]
  },
  {
   "cell_type": "code",
   "execution_count": 9,
   "metadata": {
    "scrolled": true
   },
   "outputs": [
    {
     "name": "stdout",
     "output_type": "stream",
     "text": [
      "0\n",
      "1\n",
      "2\n",
      "3\n",
      "4\n",
      "5\n",
      "6\n",
      "7\n",
      "8\n",
      "9\n",
      "10\n",
      "11\n",
      "12\n",
      "13\n",
      "14\n",
      "15\n",
      "16\n",
      "17\n",
      "18\n",
      "19\n",
      "20\n",
      "21\n",
      "22\n",
      "23\n",
      "24\n",
      "25\n",
      "26\n",
      "27\n",
      "28\n",
      "29\n",
      "30\n",
      "31\n",
      "32\n",
      "33\n",
      "34\n",
      "35\n",
      "36\n",
      "37\n",
      "38\n",
      "39\n",
      "40\n",
      "41\n",
      "42\n",
      "43\n",
      "44\n",
      "45\n",
      "46\n",
      "47\n",
      "48\n",
      "49\n",
      "50\n",
      "51\n",
      "52\n",
      "53\n",
      "54\n",
      "55\n",
      "56\n",
      "57\n",
      "58\n",
      "59\n",
      "60\n",
      "61\n",
      "62\n",
      "63\n",
      "64\n",
      "65\n",
      "66\n",
      "67\n",
      "68\n",
      "69\n",
      "70\n",
      "71\n",
      "72\n",
      "73\n",
      "74\n",
      "75\n",
      "76\n",
      "77\n",
      "78\n",
      "79\n",
      "80\n",
      "81\n",
      "82\n",
      "83\n",
      "84\n",
      "85\n",
      "86\n",
      "87\n",
      "88\n",
      "89\n",
      "90\n",
      "91\n",
      "92\n",
      "93\n",
      "94\n",
      "95\n",
      "96\n",
      "97\n",
      "98\n",
      "99\n",
      "100\n",
      "101\n",
      "102\n",
      "103\n",
      "104\n",
      "105\n",
      "106\n",
      "107\n",
      "108\n",
      "109\n",
      "110\n",
      "111\n",
      "112\n",
      "113\n",
      "114\n",
      "115\n",
      "116\n",
      "117\n",
      "118\n",
      "119\n",
      "120\n",
      "121\n",
      "122\n",
      "123\n",
      "124\n",
      "125\n",
      "126\n",
      "127\n",
      "128\n",
      "129\n",
      "130\n",
      "131\n",
      "132\n",
      "133\n",
      "134\n",
      "135\n",
      "136\n",
      "137\n",
      "138\n",
      "139\n",
      "140\n",
      "141\n",
      "142\n",
      "143\n",
      "144\n",
      "145\n",
      "146\n",
      "147\n",
      "148\n",
      "149\n",
      "150\n",
      "151\n",
      "152\n",
      "153\n",
      "154\n",
      "155\n",
      "156\n",
      "157\n",
      "158\n",
      "159\n",
      "160\n",
      "161\n",
      "162\n",
      "163\n",
      "164\n",
      "165\n",
      "166\n",
      "167\n",
      "168\n",
      "169\n",
      "170\n",
      "171\n",
      "172\n",
      "173\n",
      "174\n",
      "175\n",
      "176\n",
      "177\n",
      "178\n",
      "179\n",
      "180\n",
      "181\n",
      "182\n",
      "183\n",
      "184\n",
      "185\n",
      "186\n",
      "187\n",
      "188\n",
      "189\n",
      "190\n",
      "191\n",
      "192\n",
      "193\n",
      "194\n",
      "195\n",
      "196\n",
      "197\n"
     ]
    },
    {
     "name": "stderr",
     "output_type": "stream",
     "text": [
      "WARNING:proxmin.algorithms:Solution did not converge\n"
     ]
    },
    {
     "name": "stdout",
     "output_type": "stream",
     "text": [
      "198\n",
      "199\n"
     ]
    }
   ],
   "source": [
    "[A,S], errors, history = proxmin.algorithms.glmm(allX=[A0, S0],\n",
    "                                                 all_prox_f=all_prox_f,\n",
    "                                                 all_prox_g=all_prox_g,\n",
    "                                                 all_constraints=Ls,\n",
    "                                                 max_iter=200,\n",
    "                                                 e_rel=1e-2,\n",
    "                                                 all_constraint_norms=all_constraint_norms,\n",
    "                                                 traceback=True\n",
    "                                                )"
   ]
  },
  {
   "cell_type": "code",
   "execution_count": 10,
   "metadata": {},
   "outputs": [
    {
     "data": {
      "image/png": "[encoded data removed]",
      "text/plain": [
       "<matplotlib.figure.Figure at 0x11a087cf8>"
      ]
     },
     "metadata": {},
     "output_type": "display_data"
    },
    {
     "data": {
      "text/plain": [
       "[<matplotlib.lines.Line2D at 0x134fe9128>]"
      ]
     },
     "execution_count": 10,
     "metadata": {},
     "output_type": "execute_result"
    },
    {
     "data": {
      "image/png": "[encoded data removed]",
      "text/plain": [
       "<matplotlib.figure.Figure at 0x1275656a0>"
      ]
     },
     "metadata": {},
     "output_type": "display_data"
    }
   ],
   "source": [
    "A_hist = [h[0][0] for h in history]\n",
    "S_hist = [h[0][1] for h in history]\n",
    "S_sum = [np.sum(sh)/S.shape[1] for sh in S_hist]\n",
    "plt.plot(S_sum)\n",
    "plt.show()\n",
    "\n",
    "A_sum = [np.sum(ah)/A.shape[1] for ah in A_hist]\n",
    "plt.plot(A_sum)"
   ]
  },
  {
   "cell_type": "code",
   "execution_count": 11,
   "metadata": {},
   "outputs": [
    {
     "data": {
      "text/plain": [
       "[<matplotlib.lines.Line2D at 0x13506e1d0>]"
      ]
     },
     "execution_count": 11,
     "metadata": {},
     "output_type": "execute_result"
    },
    {
     "data": {
      "image/png": "[encoded data removed]",
      "text/plain": [
       "<matplotlib.figure.Figure at 0x13500b780>"
      ]
     },
     "metadata": {},
     "output_type": "display_data"
    }
   ],
   "source": [
    "Uk_hist = [h[2][1][0] for h in history]\n",
    "Uk_sum = [np.sum(uh)/Uk_hist[0].shape[1] for uh in Uk_hist]\n",
    "plt.plot(Uk_sum)"
   ]
  },
  {
   "cell_type": "code",
   "execution_count": 12,
   "metadata": {},
   "outputs": [
    {
     "data": {
      "text/plain": [
       "[<matplotlib.lines.Line2D at 0x1350e6358>]"
      ]
     },
     "execution_count": 12,
     "metadata": {},
     "output_type": "execute_result"
    },
    {
     "data": {
      "image/png": "[encoded data removed]",
      "text/plain": [
       "<matplotlib.figure.Figure at 0x135089e48>"
      ]
     },
     "metadata": {},
     "output_type": "display_data"
    }
   ],
   "source": [
    "Zk_hist = [h[1][1][0] for h in history]\n",
    "Zk_sum = [np.sum(zh)/Zk_hist[0].shape[1] for zh in Zk_hist]\n",
    "plt.plot(Zk_sum)"
   ]
  },
  {
   "cell_type": "code",
   "execution_count": 13,
   "metadata": {},
   "outputs": [
    {
     "data": {
      "text/plain": [
       "[<matplotlib.lines.Line2D at 0x135164e48>]"
      ]
     },
     "execution_count": 13,
     "metadata": {},
     "output_type": "execute_result"
    },
    {
     "data": {
      "image/png": "[encoded data removed]",
      "text/plain": [
       "<matplotlib.figure.Figure at 0x10d994ef0>"
      ]
     },
     "metadata": {},
     "output_type": "display_data"
    }
   ],
   "source": [
    "L = Ls[1][0]\n",
    "\n",
    "CX_hist = [L.dot(s) for s in S_hist]\n",
    "diff = [CX_hist[n]-Zk_hist[n] for n in range(len(CX_hist))]\n",
    "diff_sum = [np.sum(dh)/diff[0].shape[1] for dh in diff]\n",
    "plt.plot(diff_sum)"
   ]
  },
  {
   "cell_type": "code",
   "execution_count": null,
   "metadata": {
    "collapsed": true
   },
   "outputs": [],
   "source": []
  }
 ],
 "metadata": {
  "kernelspec": {
   "display_name": "Python 3",
   "language": "python",
   "name": "python3"
  },
  "language_info": {
   "codemirror_mode": {
    "name": "ipython",
    "version": 3
   },
   "file_extension": ".py",
   "mimetype": "text/x-python",
   "name": "python",
   "nbconvert_exporter": "python",
   "pygments_lexer": "ipython3",
   "version": "3.5.3"
  }
 },
 "nbformat": 4,
 "nbformat_minor": 2
}
